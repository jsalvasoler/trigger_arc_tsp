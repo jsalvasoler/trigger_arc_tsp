{
 "cells": [
  {
   "cell_type": "markdown",
   "metadata": {},
   "source": [
    "### Instance analysis\n",
    "In this notebook, we just want to analyze the instances of the dataset"
   ]
  },
  {
   "cell_type": "code",
   "execution_count": 1,
   "metadata": {},
   "outputs": [],
   "source": [
    "import os\n",
    "\n",
    "import pandas as pd\n",
    "from tqdm import tqdm\n",
    "\n",
    "from trigger_arc_tsp.gurobi_tsp_model import GurobiTSPModel\n",
    "from trigger_arc_tsp.instance import Instance\n",
    "from trigger_arc_tsp.utils import INSTANCES_DIR"
   ]
  },
  {
   "cell_type": "code",
   "execution_count": 6,
   "metadata": {},
   "outputs": [
    {
     "name": "stderr",
     "output_type": "stream",
     "text": [
      "  0%|          | 0/34 [00:00<?, ?it/s]"
     ]
    },
    {
     "name": "stdout",
     "output_type": "stream",
     "text": [
      "reading instance file\n",
      "initialize Instance object\n",
      "Instance loading: Loading indices from cache\n"
     ]
    },
    {
     "name": "stderr",
     "output_type": "stream",
     "text": [
      " 21%|██        | 7/34 [00:00<00:01, 20.58it/s]"
     ]
    },
    {
     "name": "stdout",
     "output_type": "stream",
     "text": [
      "reading instance file\n",
      "initialize Instance object\n",
      "Instance loading: Loading indices from cache\n",
      "reading instance file\n",
      "initialize Instance object\n",
      "Instance loading: Loading indices from cache\n",
      "reading instance file\n",
      "initialize Instance object\n",
      "Instance loading: Loading indices from cache\n",
      "reading instance file\n",
      "initialize Instance object\n",
      "Instance loading: Loading indices from cache\n",
      "reading instance file\n",
      "initialize Instance object\n",
      "Instance loading: Loading indices from cache\n",
      "reading instance file\n",
      "initialize Instance object\n",
      "Instance loading: Loading indices from cache\n",
      "reading instance file\n",
      "initialize Instance object\n",
      "Instance loading: Loading indices from cache\n",
      "reading instance file\n",
      "initialize Instance object\n",
      "Instance loading: Loading indices from cache\n",
      "reading instance file\n",
      "initialize Instance object\n",
      "Instance loading: Loading indices from cache\n",
      "reading instance file\n",
      "initialize Instance object\n",
      "Instance loading: Loading indices from cache\n",
      "reading instance file\n"
     ]
    },
    {
     "name": "stderr",
     "output_type": "stream",
     "text": [
      " 35%|███▌      | 12/34 [00:00<00:00, 27.76it/s]"
     ]
    },
    {
     "name": "stdout",
     "output_type": "stream",
     "text": [
      "initialize Instance object\n",
      "Instance loading: Loading indices from cache\n",
      "reading instance file\n",
      "initialize Instance object\n",
      "Instance loading: Loading indices from cache\n",
      "reading instance file\n",
      "initialize Instance object\n",
      "Instance loading: Loading indices from cache\n",
      "reading instance file\n",
      "initialize Instance object\n",
      "Instance loading: Loading indices from cache\n",
      "reading instance file\n",
      "initialize Instance object\n",
      "Instance loading: Loading indices from cache\n"
     ]
    },
    {
     "name": "stderr",
     "output_type": "stream",
     "text": [
      " 56%|█████▌    | 19/34 [00:01<00:01, 14.40it/s]"
     ]
    },
    {
     "name": "stdout",
     "output_type": "stream",
     "text": [
      "reading instance file\n",
      "initialize Instance object\n",
      "Instance loading: Loading indices from cache\n",
      "reading instance file\n",
      "initialize Instance object\n",
      "Instance loading: Loading indices from cache\n",
      "reading instance file\n",
      "initialize Instance object\n",
      "Instance loading: Loading indices from cache\n",
      "reading instance file\n",
      "initialize Instance object\n",
      "Instance loading: Loading indices from cache\n",
      "reading instance file\n",
      "initialize Instance object\n",
      "Instance loading: Loading indices from cache\n",
      "reading instance file\n"
     ]
    },
    {
     "name": "stderr",
     "output_type": "stream",
     "text": [
      " 65%|██████▍   | 22/34 [00:01<00:01,  8.53it/s]"
     ]
    },
    {
     "name": "stdout",
     "output_type": "stream",
     "text": [
      "initialize Instance object\n",
      "Instance loading: Loading indices from cache\n",
      "reading instance file\n"
     ]
    },
    {
     "name": "stderr",
     "output_type": "stream",
     "text": [
      " 71%|███████   | 24/34 [00:02<00:01,  9.27it/s]"
     ]
    },
    {
     "name": "stdout",
     "output_type": "stream",
     "text": [
      "initialize Instance object\n",
      "Instance loading: Loading indices from cache\n",
      "reading instance file\n",
      "initialize Instance object\n",
      "Instance loading: Loading indices from cache\n",
      "reading instance file\n",
      "initialize Instance object\n",
      "Instance loading: Loading indices from cache\n",
      "reading instance file\n",
      "initialize Instance object\n",
      "Instance loading: Loading indices from cache\n"
     ]
    },
    {
     "name": "stderr",
     "output_type": "stream",
     "text": [
      " 76%|███████▋  | 26/34 [00:02<00:01,  7.90it/s]"
     ]
    },
    {
     "name": "stdout",
     "output_type": "stream",
     "text": [
      "reading instance file\n",
      "initialize Instance object\n",
      "Instance loading: Loading indices from cache\n",
      "reading instance file\n",
      "initialize Instance object\n",
      "Instance loading: Loading indices from cache\n"
     ]
    },
    {
     "name": "stderr",
     "output_type": "stream",
     "text": [
      " 82%|████████▏ | 28/34 [00:03<00:01,  4.67it/s]"
     ]
    },
    {
     "name": "stdout",
     "output_type": "stream",
     "text": [
      "reading instance file\n",
      "initialize Instance object\n",
      "Instance loading: Loading indices from cache\n",
      "reading instance file\n",
      "initialize Instance object\n",
      "Instance loading: Loading indices from cache\n"
     ]
    },
    {
     "name": "stderr",
     "output_type": "stream",
     "text": [
      " 88%|████████▊ | 30/34 [00:03<00:00,  5.41it/s]"
     ]
    },
    {
     "name": "stdout",
     "output_type": "stream",
     "text": [
      "reading instance file\n",
      "initialize Instance object\n",
      "Instance loading: Loading indices from cache\n"
     ]
    },
    {
     "name": "stderr",
     "output_type": "stream",
     "text": [
      " 91%|█████████ | 31/34 [00:03<00:00,  5.31it/s]"
     ]
    },
    {
     "name": "stdout",
     "output_type": "stream",
     "text": [
      "reading instance file\n",
      "initialize Instance object\n",
      "Instance loading: Loading indices from cache\n"
     ]
    },
    {
     "name": "stderr",
     "output_type": "stream",
     "text": [
      " 94%|█████████▍| 32/34 [00:04<00:00,  4.73it/s]"
     ]
    },
    {
     "name": "stdout",
     "output_type": "stream",
     "text": [
      "reading instance file\n",
      "initialize Instance object\n",
      "Instance loading: Loading indices from cache\n"
     ]
    },
    {
     "name": "stderr",
     "output_type": "stream",
     "text": [
      " 97%|█████████▋| 33/34 [00:04<00:00,  3.79it/s]"
     ]
    },
    {
     "name": "stdout",
     "output_type": "stream",
     "text": [
      "reading instance file\n",
      "initialize Instance object\n",
      "Instance loading: Loading indices from cache\n"
     ]
    },
    {
     "name": "stderr",
     "output_type": "stream",
     "text": [
      "100%|██████████| 34/34 [00:05<00:00,  6.35it/s]\n"
     ]
    }
   ],
   "source": [
    "# list instances in the instances directory\n",
    "instance_names = (os.listdir(os.path.join(INSTANCES_DIR, \"instances_release_2\")))\n",
    "\n",
    "# sort according to the instance number. This is grf{num}.txt\n",
    "instance_names.sort(key=lambda x: int(x[3:-4]))\n",
    "\n",
    "# load all instances\n",
    "instances = []\n",
    "for instance_name in tqdm(instance_names):\n",
    "    instance = Instance.load_instance_from_file(os.path.join(INSTANCES_DIR, \"instances_release_2\", instance_name))\n",
    "    instances.append(instance)"
   ]
  },
  {
   "cell_type": "code",
   "execution_count": 5,
   "metadata": {},
   "outputs": [
    {
     "name": "stdout",
     "output_type": "stream",
     "text": [
      "          name    N     A       R\n",
      "0   grf101.txt   18    90    1144\n",
      "1   grf102.txt   22   132    2135\n",
      "2   grf103.txt   22   110    1824\n",
      "3   grf104.txt   27   162    3410\n",
      "4   grf105.txt   26   130    2664\n",
      "5   grf106.txt   32   192    4985\n",
      "6   grf107.txt   37   222    6860\n",
      "7   grf108.txt   37   222    6860\n",
      "8   grf109.txt   37   222    6860\n",
      "9   grf110.txt   37   222    6860\n",
      "10  grf111.txt   42   252    9035\n",
      "11  grf112.txt   50   350   15168\n",
      "12  grf113.txt   58   464   23583\n",
      "13  grf114.txt   66   594   34640\n",
      "14  grf115.txt   74   740   48699\n",
      "15  grf116.txt   82   902   66120\n",
      "16  grf117.txt   52   312   14285\n",
      "17  grf118.txt   62   434   23988\n",
      "18  grf119.txt   72   576   37303\n",
      "19  grf120.txt   82   738   54800\n",
      "20  grf121.txt   92   920   77049\n",
      "21  grf122.txt  102  1122  104620\n",
      "22  grf123.txt   62   372   20735\n",
      "23  grf124.txt   74   518   34824\n",
      "24  grf125.txt   86   688   54159\n",
      "25  grf126.txt   98   882   79568\n",
      "26  grf127.txt  110  1100  111879\n",
      "27  grf128.txt  122  1342  151920\n",
      "28  grf129.txt   72   432   28385\n",
      "29  grf130.txt   86   602   47676\n",
      "30  grf131.txt  100   800   74151\n",
      "31  grf132.txt  114  1026  108944\n",
      "32  grf133.txt  128  1280  153189\n",
      "33  grf134.txt  142  1562  208020 \n",
      "\n",
      "N\n",
      "37     4\n",
      "86     2\n",
      "74     2\n",
      "82     2\n",
      "22     2\n",
      "62     2\n",
      "72     2\n",
      "18     1\n",
      "102    1\n",
      "128    1\n",
      "114    1\n",
      "100    1\n",
      "122    1\n",
      "110    1\n",
      "98     1\n",
      "52     1\n",
      "92     1\n",
      "66     1\n",
      "58     1\n",
      "50     1\n",
      "42     1\n",
      "32     1\n",
      "26     1\n",
      "27     1\n",
      "142    1\n",
      "Name: count, dtype: int64\n"
     ]
    }
   ],
   "source": [
    "# Print the N, A, and R values for each instance\n",
    "res = pd.DataFrame({\n",
    "    \"name\": [instance.name.split(\"/\")[1] for instance in instances],\n",
    "    \"N\": [instance.N for instance in instances],\n",
    "    \"A\": [instance.A for instance in instances],\n",
    "    \"R\": [instance.R for instance in instances]\n",
    "})\n",
    "\n",
    "print(res, \"\\n\")\n",
    "\n",
    "# Counts of N\n",
    "print(res[\"N\"].value_counts())\n",
    "\n"
   ]
  },
  {
   "cell_type": "code",
   "execution_count": 7,
   "metadata": {},
   "outputs": [
    {
     "name": "stdout",
     "output_type": "stream",
     "text": [
      "         name   N     A        R   TSP_time\n",
      "0    grf1.txt  20   300     5651   0.349258\n",
      "1    grf2.txt  20   300     5708   0.353478\n",
      "2    grf3.txt  20   300    55306   0.293293\n",
      "3    grf4.txt  20   300    58208   0.633875\n",
      "4    grf5.txt  20   200     1880   0.031983\n",
      "5    grf6.txt  20   200     1732   0.065688\n",
      "6    grf7.txt  40  1200    47777   0.743205\n",
      "7    grf8.txt  40  1200    47281   2.674696\n",
      "8    grf9.txt  40  1200   909054   0.830640\n",
      "9   grf10.txt  40  1200   881876   6.397891\n",
      "10  grf11.txt  40   800    15490   0.163518\n",
      "11  grf12.txt  40   800    15650   1.811374\n",
      "12  grf13.txt  60  2700   162514   1.171736\n",
      "13  grf14.txt  60  2700   160095  87.285900\n",
      "14  grf15.txt  60  2700  4527944   4.346083\n",
      "15  grf16.txt  60  2700  4478927  24.728470\n",
      "16  grf17.txt  60  1800    53313   0.212033\n",
      "17  grf18.txt  60  1800    53472  25.621989\n",
      "18  grf19.txt  20   300     5708   0.221357\n",
      "19  grf20.txt  40  1200    47281   1.341986\n",
      "20  grf21.txt  60  2700   160095  94.326014\n"
     ]
    }
   ],
   "source": [
    "\n",
    "# Check how fast do we solve the TSP for each instance and add it to a column called \"TSP_time\"\n",
    "def add_tsp_time():\n",
    "    if \"TSP_time\" in res.columns:\n",
    "        return\n",
    "    res[\"TSP_time\"] = 0.0\n",
    "    for i, instance in enumerate(instances):\n",
    "        model = GurobiTSPModel(instance)\n",
    "        model.formulate()\n",
    "        model.solve_to_optimality()\n",
    "\n",
    "        tour = model.get_tour()\n",
    "        obj = instance.compute_objective(tour)\n",
    "        instance.save_solution(tour, obj)\n",
    "        \n",
    "        res.iloc[i, res.columns.get_loc(\"TSP_time\")] = model.get_model().Runtime\n",
    "\n",
    "add_tsp_time()\n",
    "print(res)"
   ]
  }
 ],
 "metadata": {
  "kernelspec": {
   "display_name": "trigger-arc-tsp",
   "language": "python",
   "name": "python3"
  },
  "language_info": {
   "codemirror_mode": {
    "name": "ipython",
    "version": 3
   },
   "file_extension": ".py",
   "mimetype": "text/x-python",
   "name": "python",
   "nbconvert_exporter": "python",
   "pygments_lexer": "ipython3",
   "version": "3.12.4"
  }
 },
 "nbformat": 4,
 "nbformat_minor": 2
}
