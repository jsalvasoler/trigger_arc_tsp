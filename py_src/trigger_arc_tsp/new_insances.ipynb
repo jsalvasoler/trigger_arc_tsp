{
 "cells": [
  {
   "cell_type": "markdown",
   "id": "90cba5f3",
   "metadata": {},
   "source": [
    "# Generate new set of instance \n",
    "\n",
    "We use the generation method described in the paper The Trigger Arc TSP: Optimise the Picking Process in Warehouses with Compactable Storage Systems\n",
    "\n",
    "Cerrone, C., Truvolo, M., Dragone, R., Battaglia, R. (2025). The Trigger Arc TSP: Optimise the Picking Process in Warehouses with Compactable Storage Systems. In: Juan, A.A., Faulin, J., Lopez-Lopez, D. (eds) Decision Sciences. DSA ISC 2024. Lecture Notes in Computer Science, vol 14778. Springer, Cham. https://doi.org/10.1007/978-3-031-78238-1_26"
   ]
  },
  {
   "cell_type": "markdown",
   "id": "3e5cbdd4",
   "metadata": {},
   "source": [
    "## Desc\n",
    "\n",
    "In their paper, Cerrone et al. do not fully describe the instance creation. We assume the points are randomly generated within their descibed 5km side square and we also assume the distances to be computed in meters"
   ]
  },
  {
   "cell_type": "code",
   "execution_count": 5,
   "id": "e317fead",
   "metadata": {},
   "outputs": [],
   "source": [
    "import math\n",
    "\n",
    "def euclidean_dist(city1, city2) -> int:\n",
    "    x1, y1 = city1\n",
    "    x2, y2 = city2\n",
    "    distance = math.sqrt((x2 - x1) ** 2 + (y2 - y1) ** 2)\n",
    "    return round(distance,2)"
   ]
  },
  {
   "cell_type": "code",
   "execution_count": 6,
   "id": "5ad7f357",
   "metadata": {},
   "outputs": [],
   "source": [
    "import random\n",
    "\n",
    "def generate_cities(n: int) -> list:\n",
    "    # Generate n cities with random (x, y) coordinates\n",
    "    cities = []\n",
    "    for _ in range(n):\n",
    "        cities.append((random.uniform(0, 5000), random.uniform(0, 5000)))\n",
    "    \n",
    "    return cities"
   ]
  },
  {
   "cell_type": "code",
   "execution_count": 7,
   "id": "65aab0fc",
   "metadata": {},
   "outputs": [],
   "source": [
    "import os\n",
    "\n",
    "def generate_instances(n: int, r: int, path: str, type:str):\n",
    "    cities = generate_cities(n)\n",
    "    num_arcs = n * (n - 1)  # Fully connected directed graph\n",
    "    memory_dct ={} #Needed for the arc id in the relation line \n",
    "\n",
    "    os.makedirs(os.path.dirname(path), exist_ok=True)\n",
    "\n",
    "    with open(path, 'w') as f:\n",
    "        # Write header\n",
    "        f.write(f\"{n} {num_arcs} {r}\\n\")\n",
    "\n",
    "        # base arcs \n",
    "        arc_id = 0\n",
    "        for i in range(n):\n",
    "            for j in range(i + 1, n):\n",
    "                cost = euclidean_dist(cities[i], cities[j])\n",
    "                f.write(f\"{arc_id} {i} {j} {cost}\\n\")\n",
    "                memory_dct[(i,j)] = (arc_id,cost)\n",
    "                arc_id += 1\n",
    "                f.write(f\"{arc_id} {j} {i} {cost}\\n\")\n",
    "                memory_dct[(j,i)] = (arc_id,cost)\n",
    "                arc_id += 1\n",
    "        \n",
    "        # triggers\n",
    "        for rel_id in range(r):\n",
    "            start_pair = tuple(random.sample(range(n), 2))\n",
    "            end_pair = tuple(random.sample(range(n), 2))\n",
    "\n",
    "            start_arc_id, cost = memory_dct[start_pair]\n",
    "            end_arc_id, _ = memory_dct[end_pair]\n",
    "\n",
    "            if type == \"balanced\":\n",
    "                cost = random.uniform(cost/2, 2*cost)\n",
    "            elif type == \"increase\":\n",
    "                cost = random.uniform(cost, 2*cost)\n",
    "            elif type == \"decrease\":\n",
    "                cost = random.uniform(cost/2, cost)\n",
    "\n",
    "            cost = round(cost,2)\n",
    "            \n",
    "            f.write(f\"{rel_id} {start_arc_id} {start_pair[0]} {start_pair[1]} {end_arc_id} {end_pair[0]} {end_pair[1]} {cost}\\n\")\n",
    "        "
   ]
  },
  {
   "cell_type": "code",
   "execution_count": 10,
   "id": "498d6206",
   "metadata": {},
   "outputs": [],
   "source": [
    "for type in [\"balanced\",\"increase\",\"decrease\"]:    \n",
    "    for n in [10,15,20,25]:\n",
    "        for r in [1,2,4,8,16]:\n",
    "            for i in [\"0\",\"1\",\"2\"]:\n",
    "                rel = int(r*n**2)\n",
    "                path = \"./../../instances/instances_generic/\" + type + \"_n_\" + str(n) + \"_r_\" + str(rel) + \"_\" + i\n",
    "                generate_instances(n,rel,path,type)"
   ]
  }
 ],
 "metadata": {
  "kernelspec": {
   "display_name": "myenv",
   "language": "python",
   "name": "python3"
  },
  "language_info": {
   "codemirror_mode": {
    "name": "ipython",
    "version": 3
   },
   "file_extension": ".py",
   "mimetype": "text/x-python",
   "name": "python",
   "nbconvert_exporter": "python",
   "pygments_lexer": "ipython3",
   "version": "3.12.3"
  }
 },
 "nbformat": 4,
 "nbformat_minor": 5
}
