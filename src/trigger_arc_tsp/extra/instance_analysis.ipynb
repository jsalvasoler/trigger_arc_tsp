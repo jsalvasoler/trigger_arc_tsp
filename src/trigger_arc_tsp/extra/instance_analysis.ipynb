{
 "cells": [
  {
   "cell_type": "markdown",
   "metadata": {},
   "source": [
    "### Instance analysis\n",
    "In this notebook, we just want to analyze the instances of the dataset"
   ]
  },
  {
   "cell_type": "code",
   "execution_count": 1,
   "metadata": {},
   "outputs": [],
   "source": [
    "import os\n",
    "from tqdm import tqdm\n",
    "import pandas as pd\n",
    "\n",
    "from trigger_arc_tsp.gurobi_tsp_model import GurobiTSPModel\n",
    "from trigger_arc_tsp.instance import Instance\n",
    "from trigger_arc_tsp.utils import INSTANCES_DIR"
   ]
  },
  {
   "cell_type": "code",
   "execution_count": 2,
   "metadata": {},
   "outputs": [
    {
     "name": "stderr",
     "output_type": "stream",
     "text": [
      "  0%|          | 0/21 [00:00<?, ?it/s]"
     ]
    },
    {
     "name": "stderr",
     "output_type": "stream",
     "text": [
      "100%|██████████| 21/21 [00:20<00:00,  1.02it/s]\n"
     ]
    }
   ],
   "source": [
    "# list instances in the instances directory\n",
    "instance_names = (os.listdir(os.path.join(INSTANCES_DIR, \"instances_release_1\")))\n",
    "\n",
    "# sort according to the instance number. This is grf{num}.txt\n",
    "instance_names.sort(key=lambda x: int(x[3:-4]))\n",
    "\n",
    "# load all instances\n",
    "instances = []\n",
    "for instance_name in tqdm(instance_names):\n",
    "    instance = Instance.load_instance_from_file(os.path.join(INSTANCES_DIR, \"instances_release_1\", instance_name))\n",
    "    instances.append(instance)"
   ]
  },
  {
   "cell_type": "code",
   "execution_count": 3,
   "metadata": {},
   "outputs": [
    {
     "name": "stdout",
     "output_type": "stream",
     "text": [
      "         name   N     A        R\n",
      "0    grf1.txt  20   300     5651\n",
      "1    grf2.txt  20   300     5708\n",
      "2    grf3.txt  20   300    55306\n",
      "3    grf4.txt  20   300    58208\n",
      "4    grf5.txt  20   200     1880\n",
      "5    grf6.txt  20   200     1732\n",
      "6    grf7.txt  40  1200    47777\n",
      "7    grf8.txt  40  1200    47281\n",
      "8    grf9.txt  40  1200   909054\n",
      "9   grf10.txt  40  1200   881876\n",
      "10  grf11.txt  40   800    15490\n",
      "11  grf12.txt  40   800    15650\n",
      "12  grf13.txt  60  2700   162514\n",
      "13  grf14.txt  60  2700   160095\n",
      "14  grf15.txt  60  2700  4527944\n",
      "15  grf16.txt  60  2700  4478927\n",
      "16  grf17.txt  60  1800    53313\n",
      "17  grf18.txt  60  1800    53472\n",
      "18  grf19.txt  20   300     5708\n",
      "19  grf20.txt  40  1200    47281\n",
      "20  grf21.txt  60  2700   160095 \n",
      "\n",
      "N\n",
      "20    7\n",
      "40    7\n",
      "60    7\n",
      "Name: count, dtype: int64\n"
     ]
    }
   ],
   "source": [
    "# Print the N, A, and R values for each instance\n",
    "res = pd.DataFrame({\n",
    "    \"name\": [instance.name.split(\"/\")[1] for instance in instances],\n",
    "    \"N\": [instance.N for instance in instances],\n",
    "    \"A\": [instance.A for instance in instances],\n",
    "    \"R\": [instance.R for instance in instances]\n",
    "})\n",
    "\n",
    "print(res, \"\\n\")\n",
    "\n",
    "# Counts of N\n",
    "print(res[\"N\"].value_counts())\n",
    "\n"
   ]
  },
  {
   "cell_type": "code",
   "execution_count": 7,
   "metadata": {},
   "outputs": [
    {
     "name": "stdout",
     "output_type": "stream",
     "text": [
      "         name   N     A        R   TSP_time\n",
      "0    grf1.txt  20   300     5651   0.349258\n",
      "1    grf2.txt  20   300     5708   0.353478\n",
      "2    grf3.txt  20   300    55306   0.293293\n",
      "3    grf4.txt  20   300    58208   0.633875\n",
      "4    grf5.txt  20   200     1880   0.031983\n",
      "5    grf6.txt  20   200     1732   0.065688\n",
      "6    grf7.txt  40  1200    47777   0.743205\n",
      "7    grf8.txt  40  1200    47281   2.674696\n",
      "8    grf9.txt  40  1200   909054   0.830640\n",
      "9   grf10.txt  40  1200   881876   6.397891\n",
      "10  grf11.txt  40   800    15490   0.163518\n",
      "11  grf12.txt  40   800    15650   1.811374\n",
      "12  grf13.txt  60  2700   162514   1.171736\n",
      "13  grf14.txt  60  2700   160095  87.285900\n",
      "14  grf15.txt  60  2700  4527944   4.346083\n",
      "15  grf16.txt  60  2700  4478927  24.728470\n",
      "16  grf17.txt  60  1800    53313   0.212033\n",
      "17  grf18.txt  60  1800    53472  25.621989\n",
      "18  grf19.txt  20   300     5708   0.221357\n",
      "19  grf20.txt  40  1200    47281   1.341986\n",
      "20  grf21.txt  60  2700   160095  94.326014\n"
     ]
    }
   ],
   "source": [
    "\n",
    "# Check how fast do we solve the TSP for each instance and add it to a column called \"TSP_time\"\n",
    "def add_tsp_time():\n",
    "    if \"TSP_time\" in res.columns:\n",
    "        return\n",
    "    res[\"TSP_time\"] = 0.0\n",
    "    for i, instance in enumerate(instances):\n",
    "        model = GurobiTSPModel(instance)\n",
    "        model.formulate()\n",
    "        model.solve_to_optimality()\n",
    "\n",
    "        tour = model.get_tour()\n",
    "        obj = instance.compute_objective(tour)\n",
    "        instance.save_solution(tour, obj)\n",
    "        \n",
    "        res.iloc[i, res.columns.get_loc(\"TSP_time\")] = model.get_model().Runtime\n",
    "\n",
    "add_tsp_time()\n",
    "print(res)"
   ]
  }
 ],
 "metadata": {
  "kernelspec": {
   "display_name": "trigger-arc-tsp",
   "language": "python",
   "name": "python3"
  },
  "language_info": {
   "codemirror_mode": {
    "name": "ipython",
    "version": 3
   },
   "file_extension": ".py",
   "mimetype": "text/x-python",
   "name": "python",
   "nbconvert_exporter": "python",
   "pygments_lexer": "ipython3",
   "version": "3.12.4"
  }
 },
 "nbformat": 4,
 "nbformat_minor": 2
}
