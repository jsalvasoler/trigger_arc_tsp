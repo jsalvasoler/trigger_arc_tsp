{
 "cells": [
  {
   "cell_type": "markdown",
   "metadata": {},
   "source": [
    "### Instance analysis\n",
    "In this notebook, we just want to analyze the instances of the dataset"
   ]
  },
  {
   "cell_type": "code",
   "execution_count": 17,
   "metadata": {},
   "outputs": [],
   "source": [
    "import os\n",
    "from tqdm import tqdm\n",
    "import pandas as pd\n",
    "\n",
    "from trigger_arc_tsp.gurobi_tsp_model import GurobiTSPModel\n",
    "from trigger_arc_tsp.instance import Instance\n",
    "from trigger_arc_tsp.utils import INSTANCES_DIR"
   ]
  },
  {
   "cell_type": "code",
   "execution_count": 14,
   "metadata": {},
   "outputs": [
    {
     "name": "stderr",
     "output_type": "stream",
     "text": [
      "100%|██████████| 21/21 [00:28<00:00,  1.35s/it]\n"
     ]
    }
   ],
   "source": [
    "# list instances in the instances directory\n",
    "instance_names = (os.listdir(os.path.join(INSTANCES_DIR, \"instances_release_1\")))\n",
    "\n",
    "# sort according to the instance number. This is grf{num}.txt\n",
    "instance_names.sort(key=lambda x: int(x[3:-4]))\n",
    "\n",
    "# load all instances\n",
    "instances = []\n",
    "for instance_name in tqdm(instance_names):\n",
    "    instance = Instance.load_instance_from_file(os.path.join(INSTANCES_DIR, \"instances_release_1\", instance_name))\n",
    "    instances.append(instance)"
   ]
  },
  {
   "cell_type": "code",
   "execution_count": 21,
   "metadata": {},
   "outputs": [
    {
     "name": "stdout",
     "output_type": "stream",
     "text": [
      "     N     A        R\n",
      "0   20   300     5651\n",
      "1   20   300     5708\n",
      "2   20   300    55306\n",
      "3   20   300    58208\n",
      "4   20   200     1880\n",
      "5   20   200     1732\n",
      "6   40  1200    47777\n",
      "7   40  1200    47281\n",
      "8   40  1200   909054\n",
      "9   40  1200   881876\n",
      "10  40   800    15490\n",
      "11  40   800    15650\n",
      "12  60  2700   162514\n",
      "13  60  2700   160095\n",
      "14  60  2700  4527944\n",
      "15  60  2700  4478927\n",
      "16  60  1800    53313\n",
      "17  60  1800    53472\n",
      "18  20   300     5708\n",
      "19  40  1200    47281\n",
      "20  60  2700   160095 \n",
      "\n",
      "N\n",
      "20    7\n",
      "40    7\n",
      "60    7\n",
      "Name: count, dtype: int64\n"
     ]
    }
   ],
   "source": [
    "# Print the N, A, and R values for each instance\n",
    "res = pd.DataFrame({\n",
    "    \"N\": [instance.N for instance in instances],\n",
    "    \"A\": [instance.A for instance in instances],\n",
    "    \"R\": [instance.R for instance in instances]\n",
    "})\n",
    "\n",
    "print(res, \"\\n\")\n",
    "\n",
    "# Counts of N\n",
    "print(res[\"N\"].value_counts())\n",
    "\n"
   ]
  },
  {
   "cell_type": "code",
   "execution_count": 28,
   "metadata": {},
   "outputs": [
    {
     "name": "stdout",
     "output_type": "stream",
     "text": [
      "     N     A        R   TSP_time\n",
      "0   20   300     5651   0.074223\n",
      "1   20   300     5708   0.127453\n",
      "2   20   300    55306   0.057314\n",
      "3   20   300    58208   0.187545\n",
      "4   20   200     1880   0.019551\n",
      "5   20   200     1732   0.026391\n",
      "6   40  1200    47777   0.239211\n",
      "7   40  1200    47281   0.932581\n",
      "8   40  1200   909054   0.207117\n",
      "9   40  1200   881876   2.478232\n",
      "10  40   800    15490   0.059273\n",
      "11  40   800    15650   0.539812\n",
      "12  60  2700   162514   0.464649\n",
      "13  60  2700   160095  47.621243\n",
      "14  60  2700  4527944   2.345574\n",
      "15  60  2700  4478927  11.388832\n",
      "16  60  1800    53313   0.107644\n",
      "17  60  1800    53472  13.723307\n",
      "18  20   300     5708   0.549100\n",
      "19  40  1200    47281   1.502243\n",
      "20  60  2700   160095  46.032465\n"
     ]
    }
   ],
   "source": [
    "\n",
    "# Check how fast do we solve the TSP for each instance and add it to a column called \"TSP_time\"\n",
    "def add_tsp_time():\n",
    "    if \"TSP_time\" in res.columns:\n",
    "        return\n",
    "    for i, instance in enumerate(instances):\n",
    "        model = GurobiTSPModel(instance)\n",
    "        model.formulate()\n",
    "        model.solve_to_optimality()\n",
    "        res.iloc[i, res.columns.get_loc(\"TSP_time\")] = model.get_model().Runtime\n",
    "\n",
    "add_tsp_time()\n",
    "print(res)"
   ]
  }
 ],
 "metadata": {
  "kernelspec": {
   "display_name": "trigger-arc-tsp",
   "language": "python",
   "name": "python3"
  },
  "language_info": {
   "codemirror_mode": {
    "name": "ipython",
    "version": 3
   },
   "file_extension": ".py",
   "mimetype": "text/x-python",
   "name": "python",
   "nbconvert_exporter": "python",
   "pygments_lexer": "ipython3",
   "version": "3.12.4"
  }
 },
 "nbformat": 4,
 "nbformat_minor": 2
}
